{
 "cells": [
  {
   "cell_type": "markdown",
   "metadata": {},
   "source": [
    "\n",
    "<div style=\"text-align: center;\">\n",
    "  <img src=\"https://github.com/Hack-io-Data/Imagenes/blob/main/01-LogosHackio/logo_celeste@4x.png?raw=true\" alt=\"esquema\" />\n",
    "</div>\n"
   ]
  },
  {
   "cell_type": "markdown",
   "metadata": {},
   "source": [
    "# Laboratorio de Python: manejo de errores."
   ]
  },
  {
   "cell_type": "markdown",
   "metadata": {},
   "source": [
    "## Ejercicio 1: División con manejo de excepciones\n",
    "\n",
    "Escribe un programa que pida al usuario dos números e intente dividirlos. Si el usuario ingresa un valor no numérico o intenta dividir por cero, maneja esas excepciones de manera adecuada. Asegúrate de mostrar un mensaje indicando si la división fue exitosa o no.\n"
   ]
  },
  {
   "cell_type": "code",
   "execution_count": 3,
   "metadata": {},
   "outputs": [
    {
     "name": "stdout",
     "output_type": "stream",
     "text": [
      "La división de 2 entre 7 es: 0.2857142857142857\n"
     ]
    }
   ],
   "source": [
    "num1 = input(\"Ingresa el dividendo: \")\n",
    "num2 = input(\"Ingresa el divisor: \")\n",
    "\n",
    "try:\n",
    "    resultado = float(num1) / float(num2)\n",
    "except ValueError:\n",
    "    print(\"Error: Debes ingresar valores numéricos.\")\n",
    "except ZeroDivisionError:\n",
    "    print(\"Error: No se puede dividir por cero.\")\n",
    "else:\n",
    "    print(f\"La división de {num1} entre {num2} es: {resultado}\")\n"
   ]
  },
  {
   "cell_type": "markdown",
   "metadata": {},
   "source": [
    "## Ejercicio 2: Acceso a archivos\n",
    "\n",
    "Escribe un programa que intente abrir un archivo llamado \"datos.txt\". Si el archivo no existe, captura la excepción y muestra un mensaje de error. Asegúrate de cerrar el archivo correctamente en la sección `finally`.\n"
   ]
  },
  {
   "cell_type": "code",
   "execution_count": 1,
   "metadata": {},
   "outputs": [
    {
     "name": "stdout",
     "output_type": "stream",
     "text": [
      "Error: El archivo 'datos.txt' no existe.\n"
     ]
    }
   ],
   "source": [
    "try:\n",
    "    archivo = open(\"datos.txt\")\n",
    "    print(contenido)\n",
    "except FileNotFoundError:\n",
    "    print(\"Error: El archivo 'datos.txt' no existe.\")\n",
    "finally:\n",
    "    try:\n",
    "        archivo.close()\n",
    "    except NameError:\n",
    "        pass\n"
   ]
  },
  {
   "cell_type": "markdown",
   "metadata": {},
   "source": [
    "## Ejercicio 3: Conversión de cadenas a enteros\n",
    "\n",
    "Escribe un programa que pida una lista de números separados por comas y convierta cada valor a un número entero. Maneja las excepciones para valores que no sean convertibles y asegúrate de informar si la conversión fue exitosa o no.\n"
   ]
  },
  {
   "cell_type": "code",
   "execution_count": 26,
   "metadata": {},
   "outputs": [
    {
     "name": "stdout",
     "output_type": "stream",
     "text": [
      "'a' no se puede convertir a un número entero.\n",
      "'s' no se puede convertir a un número entero.\n",
      "'d' no se puedesss convertir a un número entero.\n",
      "Números convertidos: []\n"
     ]
    }
   ],
   "source": [
    "entrada = input(\"Introduce una lista de números separados por comas: \")\n",
    "numeros_convertidos = []\n",
    "conversion_exitosa = True\n",
    "numero_actual = \"\"\n",
    "for caracter in entrada:\n",
    "    if caracter == \",\":\n",
    "        if numero_actual:\n",
    "            try:\n",
    "                numeros_convertidos.append(int(numero_actual))\n",
    "            except ValueError:\n",
    "                print(f\"'{numero_actual}' no se puede convertir a un número entero.\")\n",
    "                conversion_exitosa = False\n",
    "            numero_actual = \"\" \n",
    "    elif caracter != \" \": \n",
    "        numero_actual += caracter\n",
    "        \n",
    "if numero_actual:\n",
    "    try:\n",
    "        numeros_convertidos.append(int(numero_actual))\n",
    "    except ValueError:\n",
    "        print(f\"'{numero_actual}' no se puedes convertir a un número entero.\")\n",
    "        conversion_exitosa = False\n",
    "\n",
    "print(\"Números convertidos:\", numeros_convertidos)"
   ]
  },
  {
   "cell_type": "code",
   "execution_count": 8,
   "metadata": {},
   "outputs": [
    {
     "ename": "ValueError",
     "evalue": "invalid literal for int() with base 10: ','",
     "output_type": "error",
     "traceback": [
      "\u001b[1;31m---------------------------------------------------------------------------\u001b[0m",
      "\u001b[1;31mValueError\u001b[0m                                Traceback (most recent call last)",
      "Cell \u001b[1;32mIn[8], line 5\u001b[0m\n\u001b[0;32m      3\u001b[0m numero_actual \u001b[38;5;241m=\u001b[39m \u001b[38;5;124m\"\u001b[39m\u001b[38;5;124m\"\u001b[39m\n\u001b[0;32m      4\u001b[0m \u001b[38;5;28;01mfor\u001b[39;00m caracter \u001b[38;5;129;01min\u001b[39;00m entrada:\n\u001b[1;32m----> 5\u001b[0m     numeros_convertidos\u001b[38;5;241m.\u001b[39mappend(\u001b[38;5;28;43mint\u001b[39;49m\u001b[43m(\u001b[49m\u001b[43mcaracter\u001b[49m\u001b[43m)\u001b[49m)\n\u001b[0;32m      8\u001b[0m \u001b[38;5;28mprint\u001b[39m(numeros_convertidos)\n",
      "\u001b[1;31mValueError\u001b[0m: invalid literal for int() with base 10: ','"
     ]
    }
   ],
   "source": [
    "entrada=\"1, 2, 4\"\n",
    "numeros_convertidos = []\n",
    "numero_actual = \"\"\n",
    "for caracter in entrada:\n",
    "    numeros_convertidos.append(int(caracter))\n",
    "\n",
    "\n",
    "print(numeros_convertidos)"
   ]
  },
  {
   "cell_type": "code",
   "execution_count": null,
   "metadata": {},
   "outputs": [],
   "source": [
    "entrada---> \"1,2,3,4\""
   ]
  },
  {
   "cell_type": "markdown",
   "metadata": {},
   "source": [
    "#### Ejercicio 4: Cálculo del promedio con manejo de excepciones\n",
    "\n",
    "Escribe una función que reciba una lista de números y calcule su promedio. Si la lista está vacía, lanza una excepción personalizada y maneja el error adecuadamente.\n"
   ]
  },
  {
   "cell_type": "code",
   "execution_count": 50,
   "metadata": {},
   "outputs": [
    {
     "name": "stdout",
     "output_type": "stream",
     "text": [
      "La lista está vacía. No se puede calcular el promedio.\n"
     ]
    }
   ],
   "source": [
    "numeros = input(\"Ingresa una lista de números separados por comas: \")\n",
    "if numeros.strip() == \"\":\n",
    "    print(\"La lista está vacía. No se puede calcular el promedio.\")\n",
    "else:\n",
    "    try:\n",
    "        lista_numeros = [float(num.strip()) for num in numeros.split(\",\")]\n",
    "        if not lista_numeros:\n",
    "            print(\"La lista está vacía. No se puede calcular el promedio.\")\n",
    "        else:\n",
    "            promedio = sum(lista_numeros) / len(lista_numeros)\n",
    "            print(f\"El promedio es: {promedio}\")\n",
    "\n",
    "    except ValueError:\n",
    "        print(\"Por favor, asegúrate de ingresar solo números válidos.\")\n"
   ]
  },
  {
   "cell_type": "markdown",
   "metadata": {},
   "source": [
    "#### Ejercicio 5: Conversión segura de números\n",
    "\n",
    "Escribe un programa que convierta una cadena a número flotante e intente realizar una operación aritmética. Si la conversión falla, maneja la excepción y continúa con el flujo normal."
   ]
  },
  {
   "cell_type": "code",
   "execution_count": 57,
   "metadata": {},
   "outputs": [
    {
     "name": "stdout",
     "output_type": "stream",
     "text": [
      "La conversión ha fallado. Ingresa un número válido.\n"
     ]
    }
   ],
   "source": [
    "entrada = input(\"Ingresa un número: \")\n",
    "\n",
    "try:\n",
    "    numero = float(entrada)\n",
    "    resultado = numero + 10\n",
    "    print(f\"El resultado de sumar 10 a {numero} es: {resultado}\")\n",
    "\n",
    "except ValueError:\n",
    "    print(\"La conversión ha fallado. Ingresa un número válido.\")"
   ]
  },
  {
   "cell_type": "markdown",
   "metadata": {},
   "source": [
    "#### Ejercicio 6: Acceso a claves en diccionarios\n",
    "\n",
    "Escribe un programa que intente acceder a una clave específica en un diccionario. Si la clave no existe, maneja la excepción `KeyError` y muestra un mensaje indicando el problema."
   ]
  },
  {
   "cell_type": "code",
   "execution_count": 59,
   "metadata": {},
   "outputs": [
    {
     "name": "stdout",
     "output_type": "stream",
     "text": [
      "El valor correspondiente a la clave 'nombre' es: Alex\n"
     ]
    }
   ],
   "source": [
    "diccionario = {\n",
    "    \"nombre\": \"Alex\",\n",
    "    \"edad\": 27,\n",
    "    \"ciudad\": \"Madrid\"\n",
    "}\n",
    "\n",
    "clave = input(\"Ingresa la clave que deseas buscar en el diccionario: \")\n",
    "try:\n",
    "    valor = diccionario[clave]\n",
    "    print(f\"El valor correspondiente a la clave '{clave}' es: {valor}\")\n",
    "except KeyError:\n",
    "    print(f\"Error: La clave '{clave}' no existe en el diccionario.\")\n"
   ]
  },
  {
   "cell_type": "markdown",
   "metadata": {},
   "source": [
    "\n",
    "#### Ejercicio 7: Verificación de entradas de usuario\n",
    "\n",
    "Escribe un programa que pida al usuario que introduzca su edad. Si el usuario ingresa un valor no numérico o un valor fuera del rango esperado (por ejemplo, menor que 0 o mayor que 120), maneja las excepciones adecuadamente."
   ]
  },
  {
   "cell_type": "code",
   "execution_count": 21,
   "metadata": {},
   "outputs": [
    {
     "name": "stdout",
     "output_type": "stream",
     "text": [
      "Error: Debes introducir un valor numérico para la edad.\n"
     ]
    }
   ],
   "source": [
    "entrada = input(\"Introduce edad: \")\n",
    "\n",
    "try:\n",
    "    edad = int(entrada)\n",
    "    if edad < 0 or edad > 120:\n",
    "        print(\"Error: La edad debe estar entre 0 y 120 años.\")\n",
    "    else:\n",
    "        print(f\"Tienes {edad} años.\")\n",
    "\n",
    "except ValueError:\n",
    "    print(\"Error: Debes introducir un valor numérico para la edad.\")\n"
   ]
  },
  {
   "cell_type": "markdown",
   "metadata": {},
   "source": [
    "#### Ejercicio 8: Extracción de valores de una lista\n",
    "\n",
    "Escribe una función que intente acceder a un índice específico en una lista. Si el índice está fuera del rango, maneja la excepción `IndexError` y muestra un mensaje adecuado.\n"
   ]
  },
  {
   "cell_type": "code",
   "execution_count": 65,
   "metadata": {},
   "outputs": [
    {
     "name": "stdout",
     "output_type": "stream",
     "text": [
      "Error: El índice 5 está fuera del rango de la lista.\n"
     ]
    }
   ],
   "source": [
    "mi_lista = [10, 20, 30, 40, 50]\n",
    "entrada = input(\"Ingresa el índice que deseas acceder en la lista: \")\n",
    "\n",
    "try:\n",
    "    indice = int(entrada)\n",
    "    valor = mi_lista[indice]\n",
    "    print(f\"El valor en el índice {indice} es: {valor}\")\n",
    "\n",
    "except IndexError:\n",
    "    print(f\"Error: El índice {indice} está fuera del rango de la lista.\")\n",
    "\n",
    "except ValueError:\n",
    "    print(\"Error: Debes introducir un número entero válido para el índice.\")\n"
   ]
  }
 ],
 "metadata": {
  "kernelspec": {
   "display_name": "contenido",
   "language": "python",
   "name": "python3"
  },
  "language_info": {
   "codemirror_mode": {
    "name": "ipython",
    "version": 3
   },
   "file_extension": ".py",
   "mimetype": "text/x-python",
   "name": "python",
   "nbconvert_exporter": "python",
   "pygments_lexer": "ipython3",
   "version": "3.12.6"
  }
 },
 "nbformat": 4,
 "nbformat_minor": 2
}
